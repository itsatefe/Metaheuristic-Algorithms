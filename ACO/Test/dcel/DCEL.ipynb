{
 "cells": [
  {
   "cell_type": "code",
   "execution_count": 4,
   "id": "c585864d-575b-4924-9c3f-292ee8d2f62a",
   "metadata": {},
   "outputs": [
    {
     "ename": "AttributeError",
     "evalue": "'Rectangle' object has no attribute 'overlaps'",
     "output_type": "error",
     "traceback": [
      "\u001b[1;31m---------------------------------------------------------------------------\u001b[0m",
      "\u001b[1;31mAttributeError\u001b[0m                            Traceback (most recent call last)",
      "Cell \u001b[1;32mIn[4], line 26\u001b[0m\n\u001b[0;32m     24\u001b[0m \u001b[38;5;28;01mfor\u001b[39;00m i \u001b[38;5;129;01min\u001b[39;00m \u001b[38;5;28mrange\u001b[39m(\u001b[38;5;28mlen\u001b[39m(rectangles)):\n\u001b[0;32m     25\u001b[0m     \u001b[38;5;28;01mfor\u001b[39;00m j \u001b[38;5;129;01min\u001b[39;00m \u001b[38;5;28mrange\u001b[39m(i \u001b[38;5;241m+\u001b[39m \u001b[38;5;241m1\u001b[39m, \u001b[38;5;28mlen\u001b[39m(rectangles)):\n\u001b[1;32m---> 26\u001b[0m         \u001b[38;5;28;01mif\u001b[39;00m \u001b[43mrectangles\u001b[49m\u001b[43m[\u001b[49m\u001b[43mi\u001b[49m\u001b[43m]\u001b[49m\u001b[38;5;241;43m.\u001b[39;49m\u001b[43moverlaps\u001b[49m(rectangles[j]):\n\u001b[0;32m     27\u001b[0m             graph\u001b[38;5;241m.\u001b[39madd_edge(rectangles[i], rectangles[j])\n\u001b[0;32m     29\u001b[0m \u001b[38;5;28mprint\u001b[39m(graph)\n",
      "\u001b[1;31mAttributeError\u001b[0m: 'Rectangle' object has no attribute 'overlaps'"
     ]
    }
   ],
   "source": [
    "from planegeometry.structures.rectangles import Rectangle\n",
    "from planegeometry.structures.graphs import Graph\n",
    "rectangles = [\n",
    "    Rectangle(98, 0, 100, 100),\n",
    "    Rectangle(55, 7, 56, 100),\n",
    "    Rectangle(85, 13, 90, 100),\n",
    "    Rectangle(91, 13, 96, 100),\n",
    "    Rectangle(11, 16, 48, 100),\n",
    "    Rectangle(72, 19, 82, 100),\n",
    "    Rectangle(0, 21, 5, 100),\n",
    "    Rectangle(56, 22, 72, 100),\n",
    "    Rectangle(48, 23, 55, 100),\n",
    "    Rectangle(96, 29, 98, 100),\n",
    "    Rectangle(5, 33, 11, 100),\n",
    "    Rectangle(90, 49, 91, 100),\n",
    "    Rectangle(82, 65, 85, 100)\n",
    "]\n",
    "\n",
    "graph = Graph()\n",
    "\n",
    "for rectangle in rectangles:\n",
    "    graph.add_node(rectangle)\n",
    "\n",
    "for i in range(len(rectangles)):\n",
    "    for j in range(i + 1, len(rectangles)):\n",
    "        if rectangles[i].overlaps(rectangles[j]):\n",
    "            graph.add_edge(rectangles[i], rectangles[j])\n",
    "\n",
    "print(graph)\n"
   ]
  },
  {
   "cell_type": "code",
   "execution_count": null,
   "id": "28e1b51f-aaae-404f-817e-7bd9cb24d946",
   "metadata": {},
   "outputs": [],
   "source": []
  }
 ],
 "metadata": {
  "kernelspec": {
   "display_name": "Python 3 (ipykernel)",
   "language": "python",
   "name": "python3"
  },
  "language_info": {
   "codemirror_mode": {
    "name": "ipython",
    "version": 3
   },
   "file_extension": ".py",
   "mimetype": "text/x-python",
   "name": "python",
   "nbconvert_exporter": "python",
   "pygments_lexer": "ipython3",
   "version": "3.9.19"
  }
 },
 "nbformat": 4,
 "nbformat_minor": 5
}
